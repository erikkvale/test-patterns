{
 "cells": [
  {
   "cell_type": "markdown",
   "metadata": {},
   "source": [
    "Stock Portfolio Class"
   ]
  },
  {
   "cell_type": "code",
   "execution_count": 1,
   "metadata": {},
   "outputs": [],
   "source": [
    "class Portfolio:\n",
    "    \"\"\"\n",
    "    A simple stock portfolio\n",
    "    \"\"\"\n",
    "    def __init__(self):\n",
    "        # Stocks are a list of lists:\n",
    "        # [[names, shares, price], ...]\n",
    "        self.stocks = []\n",
    "        \n",
    "    def buy(self, name, shares, price):\n",
    "        \"\"\"Buy 'name': 'shares' shares at 'price'.\"\"\"\n",
    "        self.stocks.append((name, shares, price)\n",
    "        \n",
    "    def cost(self):\n",
    "        amt = 0.0\n",
    "        for name, shares, price in self.stocks:\n",
    "            amt += shares * price\n",
    "        return amt"
   ]
  },
  {
   "cell_type": "markdown",
   "metadata": {},
   "source": [
    "#### First Test: Interactive "
   ]
  },
  {
   "cell_type": "code",
   "execution_count": 6,
   "metadata": {},
   "outputs": [],
   "source": [
    "# essentially doctests for the class and its attributes\n",
    "\n",
    "p = Portfolio()\n",
    "assert p.cost() == 0\n",
    "\n",
    "p.buy(\"IBM\", 100, 176.48)\n",
    "assert p.cost() == 17648\n",
    "\n",
    "p.buy(\"HPQ\", 100, 36.15)\n",
    "assert p.cost() == 21263"
   ]
  },
  {
   "cell_type": "markdown",
   "metadata": {},
   "source": [
    "* <font color='green'>Good: testing the code</font> \n",
    "* <font color='red'>Bad: not repeatable</font>\n",
    "* <font color='red'>Bad: labor intensive</font>\n",
    "* <font color='red'>Bad: is it correct?</font>"
   ]
  },
  {
   "cell_type": "markdown",
   "metadata": {},
   "source": [
    "#### Second Test: Standalone"
   ]
  },
  {
   "cell_type": "code",
   "execution_count": 7,
   "metadata": {},
   "outputs": [
    {
     "name": "stdout",
     "output_type": "stream",
     "text": [
      "Empty portfolio cost: 0.0\n",
      "With 100 IBM @ 176.48: 17648.0\n",
      "With 100 HPQ @ 36.15: 21263.0\n"
     ]
    }
   ],
   "source": [
    "# Create a separate python module to test Portfolio as an imported module.class\n",
    "\n",
    "p = Portfolio()\n",
    "print(\"Empty portfolio cost: %s\" % p.cost())\n",
    "p.buy(\"IBM\", 100, 176.48)\n",
    "print(\"With 100 IBM @ 176.48: %s\" % p.cost())\n",
    "p.buy(\"HPQ\", 100, 36.15)\n",
    "print(\"With 100 HPQ @ 36.15: %s\" % p.cost())"
   ]
  },
  {
   "cell_type": "markdown",
   "metadata": {},
   "source": [
    "* <font color='green'>Good: testing the code</font> \n",
    "* <font color='green'>Bad: not repeatable</font>\n",
    "* <font color='green'>Bad: labor intensive</font>\n",
    "* <font color='red'>Bad: is it correct?</font>"
   ]
  },
  {
   "cell_type": "markdown",
   "metadata": {},
   "source": [
    "#### Good Tests, should be:\n",
    "* Automated\n",
    "* Fast\n",
    "* Reliable\n",
    "* Informative\n",
    "* Focused"
   ]
  },
  {
   "cell_type": "code",
   "execution_count": 12,
   "metadata": {},
   "outputs": [
    {
     "name": "stderr",
     "output_type": "stream",
     "text": [
      ".\n",
      "----------------------------------------------------------------------\n",
      "Ran 1 test in 0.001s\n",
      "\n",
      "OK\n"
     ]
    }
   ],
   "source": [
    "import unittest\n",
    "\n",
    "class TestPortfolio(unittest.TestCase):\n",
    "    \n",
    "    def test_empty(self):\n",
    "        p = Portfolio()\n",
    "        assert p.cost() == 0.0\n",
    "        \n",
    "    def test_buy_one_stock(self):\n",
    "        p = Portfolio()\n",
    "        p.buy(\"IBM\", 100, 176.48)\n",
    "        assert p.cost() == 17648.0\n",
    "        \n",
    "    def test_buy_two_stocks(self):\n",
    "        \n",
    "        \n",
    "        \n",
    "if __name__ == '__main__':\n",
    "    unittest.main(argv=['first-arg-is-ignored'], exit=False)"
   ]
  },
  {
   "cell_type": "code",
   "execution_count": null,
   "metadata": {},
   "outputs": [],
   "source": []
  }
 ],
 "metadata": {
  "kernelspec": {
   "display_name": "Python 3",
   "language": "python",
   "name": "python3"
  },
  "language_info": {
   "codemirror_mode": {
    "name": "ipython",
    "version": 3
   },
   "file_extension": ".py",
   "mimetype": "text/x-python",
   "name": "python",
   "nbconvert_exporter": "python",
   "pygments_lexer": "ipython3",
   "version": "3.6.5"
  }
 },
 "nbformat": 4,
 "nbformat_minor": 2
}
