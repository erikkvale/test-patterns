{
 "cells": [
  {
   "cell_type": "markdown",
   "metadata": {},
   "source": [
    "### Problem Statement\n",
    "\n",
    "Given a list of names and phone numbers, make a \"Phonebook\" that allows you to look up numbers by name. Then determine if a given \"Phonebook\" is consistent. Where consistent means that no number is a\n",
    "prefix of another number, e.g. \n",
    "\n",
    "```\n",
    "[('Bob', 91125426), ('Emergency', 911), ...]\n",
    "```\n",
    "Here Bob and Emergency have inconsistent numbers, given the number for an Emergency is are also the three digits in the "
   ]
  },
  {
   "cell_type": "markdown",
   "metadata": {},
   "source": [
    "### Test Code (TDD aka these are written first!!)"
   ]
  },
  {
   "cell_type": "code",
   "execution_count": 30,
   "metadata": {},
   "outputs": [
    {
     "name": "stderr",
     "output_type": "stream",
     "text": [
      ".E..\n",
      "======================================================================\n",
      "ERROR: test_empty_phonebook_is_consistent (__main__.TestPhonebook)\n",
      "----------------------------------------------------------------------\n",
      "Traceback (most recent call last):\n",
      "  File \"<ipython-input-30-d2f45abdd820>\", line 23, in test_empty_phonebook_is_consistent\n",
      "    self.assertTrue(phonebook.is_consistent())\n",
      "AttributeError: 'Phonebook' object has no attribute 'is_consistent'\n",
      "\n",
      "----------------------------------------------------------------------\n",
      "Ran 4 tests in 0.005s\n",
      "\n",
      "FAILED (errors=1)\n"
     ]
    }
   ],
   "source": [
    "# Test case\n",
    "import unittest\n",
    "\n",
    "class TestPhonebook(unittest.TestCase):\n",
    "    \n",
    "    def test_create_phonebook(self):\n",
    "        phonebook = Phonebook()\n",
    "        \n",
    "    def test_lookup_entry_by_name(self):\n",
    "        phonebook = Phonebook()\n",
    "        # The following two methods should probably be split out here\n",
    "        # into their own test methods\n",
    "        phonebook.add(\"Bob\", 12345)\n",
    "        self.assertEqual(12345, phonebook.lookup(\"Bob\"))\n",
    "        \n",
    "    def test_missing_entry_raises_key_error(self):\n",
    "        phonebook = Phonebook()\n",
    "        with self.assertRaises(KeyError):\n",
    "            phonebook.lookup(\"Erik\")\n",
    "            \n",
    "    def test_empty_phonebook_is_consistent(self):\n",
    "        phonebook = Phonebook()\n",
    "        self.assertTrue(phonebook.is_consistent())\n",
    "    \n",
    "if __name__ == '__main__':\n",
    "    unittest.main(argv=['first-arg-is-ignored'], exit=False)"
   ]
  },
  {
   "cell_type": "markdown",
   "metadata": {},
   "source": [
    "### Code (These are written second, but executed first in context of Jupyter)"
   ]
  },
  {
   "cell_type": "code",
   "execution_count": 28,
   "metadata": {},
   "outputs": [],
   "source": [
    "class Phonebook:\n",
    "    \n",
    "    def __init__(self):\n",
    "        self.listings = {}\n",
    "    \n",
    "    def add(self, name, number):\n",
    "        self.listings[name] = number\n",
    "        \n",
    "    def lookup(self, name):\n",
    "        return self.listings[name]\n",
    "    \n",
    "    def is_consistent(self):\n",
    "        for k, v in self.listings.items():\n",
    "            if str(v)[:3] in self.listings.values():\n",
    "                return False\n",
    "        return True"
   ]
  },
  {
   "cell_type": "code",
   "execution_count": 34,
   "metadata": {},
   "outputs": [],
   "source": [
    "s = str(12345)[:3]"
   ]
  },
  {
   "cell_type": "code",
   "execution_count": 35,
   "metadata": {},
   "outputs": [
    {
     "data": {
      "text/plain": [
       "'123'"
      ]
     },
     "execution_count": 35,
     "metadata": {},
     "output_type": "execute_result"
    }
   ],
   "source": [
    "s"
   ]
  },
  {
   "cell_type": "code",
   "execution_count": null,
   "metadata": {},
   "outputs": [],
   "source": []
  }
 ],
 "metadata": {
  "kernelspec": {
   "display_name": "Python 3",
   "language": "python",
   "name": "python3"
  },
  "language_info": {
   "codemirror_mode": {
    "name": "ipython",
    "version": 3
   },
   "file_extension": ".py",
   "mimetype": "text/x-python",
   "name": "python",
   "nbconvert_exporter": "python",
   "pygments_lexer": "ipython3",
   "version": "3.6.5"
  }
 },
 "nbformat": 4,
 "nbformat_minor": 2
}
