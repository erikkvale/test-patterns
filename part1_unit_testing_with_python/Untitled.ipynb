{
 "cells": [
  {
   "cell_type": "markdown",
   "metadata": {},
   "source": [
    "### Problem Statement\n",
    "\n",
    "Given a list of names and phone numbers, make a \"Phonebook\" that allows you to look up numbers by name. Then determine if a given \"Phonebook\" is consistent. Where consistent means that no number is a\n",
    "prefix of another number, e.g. \n",
    "\n",
    "```\n",
    "[('Bob', 91125426), ('Emergency', 911), ...]\n",
    "```\n",
    "Here Bob and Emergency have inconsistent numbers, given the number for an Emergency is are also the three digits in the "
   ]
  },
  {
   "cell_type": "markdown",
   "metadata": {},
   "source": [
    "### Test Code (TDD aka these are written first!!)"
   ]
  },
  {
   "cell_type": "code",
   "execution_count": 24,
   "metadata": {},
   "outputs": [
    {
     "name": "stderr",
     "output_type": "stream",
     "text": [
      "..\n",
      "----------------------------------------------------------------------\n",
      "Ran 2 tests in 0.003s\n",
      "\n",
      "OK\n"
     ]
    }
   ],
   "source": [
    "# Test case\n",
    "import unittest\n",
    "\n",
    "class TestPhonebook(unittest.TestCase):\n",
    "    \n",
    "    def test_create_phonebook(self):\n",
    "        phonebook = Phonebook()\n",
    "        \n",
    "    def test_lookup_entry_by_name(self):\n",
    "        phonebook = Phonebook()\n",
    "        phonebook.add(\"Bob\", 12345)\n",
    "        self.assertEqual(12345, phonebook.lookup(\"Bob\"))\n",
    "    \n",
    "if __name__ == '__main__':\n",
    "    unittest.main(argv=['first-arg-is-ignored'], exit=False)"
   ]
  },
  {
   "cell_type": "markdown",
   "metadata": {},
   "source": [
    "### Code (These are written second, but executed first in context of Jupyter)"
   ]
  },
  {
   "cell_type": "code",
   "execution_count": 21,
   "metadata": {},
   "outputs": [],
   "source": [
    "class Phonebook:\n",
    "    \n",
    "    def __init__(self):\n",
    "        self.listings = {}\n",
    "    \n",
    "    def add(self, name, number):\n",
    "        self.listings[name] = number\n",
    "        \n",
    "    def lookup(self, name):\n",
    "        return self.listings[name]"
   ]
  },
  {
   "cell_type": "markdown",
   "metadata": {},
   "source": []
  }
 ],
 "metadata": {
  "kernelspec": {
   "display_name": "Python 3",
   "language": "python",
   "name": "python3"
  },
  "language_info": {
   "codemirror_mode": {
    "name": "ipython",
    "version": 3
   },
   "file_extension": ".py",
   "mimetype": "text/x-python",
   "name": "python",
   "nbconvert_exporter": "python",
   "pygments_lexer": "ipython3",
   "version": "3.6.5"
  }
 },
 "nbformat": 4,
 "nbformat_minor": 2
}
